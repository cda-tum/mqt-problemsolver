{
 "cells": [
  {
   "cell_type": "code",
   "execution_count": null,
   "id": "a5210510",
   "metadata": {},
   "outputs": [],
   "source": [
    "from math import ceil\n",
    "\n",
    "from qsharp.estimator import EstimatorParams, EstimatorResult, LogicalCounts, QECScheme, QubitParams"
   ]
  },
  {
   "cell_type": "markdown",
   "id": "25ef4938",
   "metadata": {},
   "source": [
    "# Experiments"
   ]
  },
  {
   "cell_type": "code",
   "execution_count": null,
   "id": "06e15253",
   "metadata": {},
   "outputs": [],
   "source": [
    "# For all experiments, we are using the logical resource counts as a starting\n",
    "# point.  These have been computed using the qsharp Python package (version\n",
    "# 1.8.0) for the https://aka.ms/fcidump/XVIII-cas4-fb-64e-56o Hamiltonian on\n",
    "# the sample\n",
    "# https://github.com/microsoft/qsharp/tree/main/samples/estimation/df-chemistry:\n",
    "#\n",
    "# ```\n",
    "# $ python chemistry.py -f https://aka.ms/fcidump/XVIII-cas4-fb-64e-56o\n",
    "# $ jq '.logicalCounts' < resource_estimate.json\n",
    "# ```\n",
    "\n",
    "logical_counts = LogicalCounts({\n",
    "    \"numQubits\": 1318,\n",
    "    \"tCount\": 96,\n",
    "    \"rotationCount\": 11987084,\n",
    "    \"rotationDepth\": 11986482,\n",
    "    \"cczCount\": 67474931068,\n",
    "    \"measurementCount\": 63472407520,\n",
    "})"
   ]
  },
  {
   "cell_type": "markdown",
   "id": "7b396e6b",
   "metadata": {},
   "source": [
    "## Default qubit models"
   ]
  },
  {
   "cell_type": "code",
   "execution_count": null,
   "id": "582477ec",
   "metadata": {},
   "outputs": [],
   "source": [
    "params = EstimatorParams(6)\n",
    "params.error_budget = 0.01\n",
    "params.items[0].qubit_params.name = QubitParams.GATE_US_E3\n",
    "params.items[1].qubit_params.name = QubitParams.GATE_US_E4\n",
    "params.items[2].qubit_params.name = QubitParams.GATE_NS_E3\n",
    "params.items[3].qubit_params.name = QubitParams.GATE_NS_E4\n",
    "params.items[4].qubit_params.name = QubitParams.MAJ_NS_E4\n",
    "params.items[4].qec_scheme.name = QECScheme.FLOQUET_CODE\n",
    "params.items[5].qubit_params.name = QubitParams.MAJ_NS_E6\n",
    "params.items[5].qec_scheme.name = QECScheme.FLOQUET_CODE\n",
    "\n",
    "results = logical_counts.estimate(params=params)\n",
    "\n",
    "print(results.summary_data_frame())"
   ]
  },
  {
   "cell_type": "markdown",
   "id": "a707e2e5",
   "metadata": {},
   "source": [
    "## Evaluating different number of T factories"
   ]
  },
  {
   "cell_type": "code",
   "execution_count": null,
   "id": "f16bbe88",
   "metadata": {},
   "outputs": [],
   "source": [
    "params = EstimatorParams(num_items=14)\n",
    "params.qubit_params.name = QubitParams.MAJ_NS_E6\n",
    "params.qec_scheme.name = QECScheme.FLOQUET_CODE\n",
    "\n",
    "params.error_budget = 0.01\n",
    "for i in range(14):\n",
    "    params.items[i].constraints.max_t_factories = 14 - i\n",
    "\n",
    "results = logical_counts.estimate(params=params)\n",
    "\n",
    "print(results.summary_data_frame())"
   ]
  },
  {
   "cell_type": "markdown",
   "id": "d94cb722",
   "metadata": {},
   "source": [
    "## Modifying error rates and operating times"
   ]
  },
  {
   "cell_type": "code",
   "execution_count": null,
   "id": "75fe4f65",
   "metadata": {},
   "outputs": [],
   "source": [
    "base_time = 50  # ns\n",
    "base_error = 1e-3\n",
    "\n",
    "error_growth = 1e-1\n",
    "time_growth = 0.9\n",
    "\n",
    "params = EstimatorParams(num_items=5)\n",
    "params.error_budget = 0.01\n",
    "for t in range(5):\n",
    "    params.items[t].qubit_params.instruction_set = \"gateBased\"\n",
    "    params.items[t].qubit_params.name = f\"t{t}\"\n",
    "    params.items[t].qubit_params.one_qubit_measurement_time = f\"{(2 * base_time) * time_growth**t} ns\"\n",
    "    params.items[t].qubit_params.one_qubit_gate_time = f\"{base_time * time_growth**t} ns\"\n",
    "    params.items[t].qubit_params.two_qubit_gate_time = f\"{base_time * time_growth**t} ns\"\n",
    "    params.items[t].qubit_params.t_gate_time = f\"{base_time * time_growth**t} ns\"\n",
    "    params.items[t].qubit_params.one_qubit_measurement_error_rate = base_error * error_growth**t\n",
    "    params.items[t].qubit_params.one_qubit_gate_error_rate = base_error * error_growth**t\n",
    "    params.items[t].qubit_params.two_qubit_gate_error_rate = base_error * error_growth**t\n",
    "    params.items[t].qubit_params.t_gate_error_rate = base_error * error_growth**t\n",
    "    params.items[t].qubit_params.idle_error_rate = base_error * error_growth**t\n",
    "\n",
    "results = logical_counts.estimate(params=params)\n",
    "\n",
    "print(results.summary_data_frame())"
   ]
  },
  {
   "cell_type": "markdown",
   "id": "a272e940",
   "metadata": {},
   "source": [
    "##  Modifying logical counts"
   ]
  },
  {
   "cell_type": "code",
   "execution_count": null,
   "id": "43a81d61",
   "metadata": {},
   "outputs": [],
   "source": [
    "def modified_logical_counts(space_factor: float, time_factor: float) -> LogicalCounts:\n",
    "    return LogicalCounts({\n",
    "        \"numQubits\": ceil(logical_counts[\"numQubits\"] * space_factor),\n",
    "        \"tCount\": ceil(logical_counts[\"tCount\"] * time_factor),\n",
    "        \"rotationCount\": ceil(logical_counts[\"rotationCount\"] * time_factor),\n",
    "        \"rotationDepth\": ceil(logical_counts[\"rotationDepth\"] * time_factor),\n",
    "        \"cczCount\": ceil(logical_counts[\"cczCount\"] * time_factor),\n",
    "        \"measurementCount\": ceil(logical_counts[\"measurementCount\"] * time_factor),\n",
    "    })\n",
    "\n",
    "\n",
    "params = EstimatorParams()\n",
    "params.error_budget = 0.01\n",
    "params.qubit_params.name = QubitParams.MAJ_NS_E6\n",
    "params.qec_scheme.name = QECScheme.FLOQUET_CODE\n",
    "estimates = []\n",
    "for space_factor, time_factor in [(1.0, 1.0), (0.5, 2.0), (2.0, 0.5), (0.75, 0.75)]:\n",
    "    counts = modified_logical_counts(space_factor, time_factor)\n",
    "    estimates.append(counts.estimate(params=params))\n",
    "\n",
    "print(EstimatorResult(estimates).summary_data_frame())"
   ]
  }
 ],
 "metadata": {
  "kernelspec": {
   "display_name": "mqt-problemsolver (3.13.3)",
   "language": "python",
   "name": "python3"
  },
  "language_info": {
   "codemirror_mode": {
    "name": "ipython",
    "version": 3
   },
   "file_extension": ".py",
   "mimetype": "text/x-python",
   "name": "python",
   "nbconvert_exporter": "python",
   "pygments_lexer": "ipython3"
  }
 },
 "nbformat": 4,
 "nbformat_minor": 5
}

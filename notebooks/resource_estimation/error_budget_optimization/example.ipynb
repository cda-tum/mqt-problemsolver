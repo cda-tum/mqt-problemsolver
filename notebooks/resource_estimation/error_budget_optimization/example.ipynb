{
 "cells": [
  {
   "cell_type": "code",
   "execution_count": null,
   "id": "c7a57105c0c5ac21",
   "metadata": {},
   "outputs": [],
   "source": [
    "import csv\n",
    "from pathlib import Path\n",
    "\n",
    "from mqt.problemsolver.resource_estimation.error_budget_optimization import (\n",
    "    evaluate,\n",
    "    generate_data,\n",
    "    plot_results,\n",
    "    train,\n",
    ")"
   ]
  },
  {
   "cell_type": "markdown",
   "id": "f3e4a6d5",
   "metadata": {},
   "source": [
    "## Data Generation"
   ]
  },
  {
   "cell_type": "code",
   "execution_count": null,
   "id": "b744cbfa2c48f6c7",
   "metadata": {},
   "outputs": [],
   "source": [
    "total_error_budget = 0.1\n",
    "number_of_randomly_generated_distributions = 1000\n",
    "use_paper_data = True\n",
    "use_zip_file_circuits = False\n",
    "\n",
    "if use_paper_data:\n",
    "    csv_path = Path(\"logical_counts.csv\")\n",
    "    with Path.open(csv_path, encoding=\"utf-8\", newline=\"\") as csvfile:\n",
    "        reader = csv.DictReader(csvfile)\n",
    "        logical_counts = [{k: int(v) for k, v in row.items()} for row in reader]\n",
    "    data = generate_data(\n",
    "        total_error_budget,\n",
    "        number_of_randomly_generated_distributions,\n",
    "        logical_counts=logical_counts,\n",
    "    )\n",
    "\n",
    "elif use_zip_file_circuits:\n",
    "    zip_file_path = Path(\"mqt_bench.zip\")\n",
    "    if not zip_file_path.exists():\n",
    "        msg = f\"Data not found at {zip_file_path}\"\n",
    "        raise FileNotFoundError(msg)\n",
    "    data = generate_data(\n",
    "        total_error_budget,\n",
    "        number_of_randomly_generated_distributions,\n",
    "        path=zip_file_path,\n",
    "    )\n",
    "else:\n",
    "    benchmark_defs = [\n",
    "        (\"ae\", [3, 4, 5, 6, 7, 8, 9, 10]),\n",
    "        (\"dj\", [3, 4, 5, 6, 7, 8, 9, 10]),\n",
    "    ]\n",
    "    data = generate_data(\n",
    "        total_error_budget,\n",
    "        number_of_randomly_generated_distributions,\n",
    "        benchmarks_and_sizes=benchmark_defs,\n",
    "    )"
   ]
  },
  {
   "cell_type": "markdown",
   "id": "7af169cb",
   "metadata": {},
   "source": [
    "## Training"
   ]
  },
  {
   "cell_type": "code",
   "execution_count": null,
   "id": "675f4541",
   "metadata": {},
   "outputs": [],
   "source": [
    "model, x_test, y_test = train(data)"
   ]
  },
  {
   "cell_type": "markdown",
   "id": "6d4021ca",
   "metadata": {},
   "source": [
    "## Evaluation"
   ]
  },
  {
   "cell_type": "code",
   "execution_count": null,
   "id": "18ac8807",
   "metadata": {},
   "outputs": [],
   "source": [
    "Y_pred = model.predict(x_test)\n",
    "product_diffs = evaluate(x_test, Y_pred, total_error_budget)\n",
    "product_diffs_dataset = evaluate(x_test, y_test, total_error_budget)\n",
    "\n",
    "plot_results(product_diffs, product_diffs_dataset, legend=True, bin_width=4)"
   ]
  }
 ],
 "metadata": {
  "kernelspec": {
   "display_name": "mqt-problemsolver (3.13.3)",
   "language": "python",
   "name": "python3"
  },
  "language_info": {
   "codemirror_mode": {
    "name": "ipython",
    "version": 3
   },
   "file_extension": ".py",
   "mimetype": "text/x-python",
   "name": "python",
   "nbconvert_exporter": "python",
   "pygments_lexer": "ipython3"
  }
 },
 "nbformat": 4,
 "nbformat_minor": 5
}

{
 "cells": [
  {
   "cell_type": "markdown",
   "metadata": {},
   "source": [
    "# Import and Problem Setup"
   ]
  },
  {
   "cell_type": "code",
   "execution_count": null,
   "metadata": {},
   "outputs": [],
   "source": [
    "from mqt.problemsolver.satellitesolver import utils\n",
    "from mqt.problemsolver.satellitesolver.algorithms import (\n",
    "    solve_using_qaoa,\n",
    "    solve_using_vqe,\n",
    "    solve_using_w_qaoa,\n",
    ")"
   ]
  },
  {
   "cell_type": "code",
   "execution_count": null,
   "metadata": {},
   "outputs": [],
   "source": [
    "num_to_be_captured_locations = 4\n",
    "use_noisy_backend = False\n",
    "\n",
    "ac_reqs = utils.init_random_location_requests(num_to_be_captured_locations)\n",
    "qubo = utils.convert_docplex_to_qubo(utils.create_satellite_doxplex(ac_reqs))"
   ]
  },
  {
   "cell_type": "code",
   "execution_count": null,
   "metadata": {},
   "outputs": [],
   "source": [
    "utils.plot_acquisition_requests(ac_reqs)"
   ]
  },
  {
   "cell_type": "markdown",
   "metadata": {},
   "source": [
    "# Solve Classically"
   ]
  },
  {
   "cell_type": "code",
   "execution_count": null,
   "metadata": {},
   "outputs": [],
   "source": [
    "from qiskit.algorithms.minimum_eigensolvers import NumPyMinimumEigensolver\n",
    "from qiskit_optimization.algorithms import MinimumEigenOptimizer"
   ]
  },
  {
   "cell_type": "code",
   "execution_count": null,
   "metadata": {},
   "outputs": [],
   "source": [
    "exact_mes = NumPyMinimumEigensolver()\n",
    "exact_result = MinimumEigenOptimizer(exact_mes).solve(qubo).fval\n",
    "print(exact_result)"
   ]
  },
  {
   "cell_type": "markdown",
   "metadata": {},
   "source": [
    "# Solve Using VQE"
   ]
  },
  {
   "cell_type": "code",
   "execution_count": null,
   "metadata": {},
   "outputs": [],
   "source": [
    "res_vqe = solve_using_vqe(qubo, noisy_flag=use_noisy_backend)\n",
    "print(res_vqe)\n",
    "print(\"Quality Ratio:\", res_vqe.fval / exact_result)"
   ]
  },
  {
   "cell_type": "markdown",
   "metadata": {},
   "source": [
    "# Solve Using QAOA"
   ]
  },
  {
   "cell_type": "code",
   "execution_count": null,
   "metadata": {},
   "outputs": [],
   "source": [
    "res_qaoa = solve_using_qaoa(qubo, noisy_flag=use_noisy_backend)\n",
    "print(res_qaoa)\n",
    "print(\"Quality Ratio:\", res_qaoa.fval / exact_result)"
   ]
  },
  {
   "cell_type": "markdown",
   "metadata": {},
   "source": [
    "# Solve Using W-QAOA"
   ]
  },
  {
   "cell_type": "code",
   "execution_count": null,
   "metadata": {},
   "outputs": [],
   "source": [
    "res_w_qaoa = solve_using_w_qaoa(qubo, noisy_flag=use_noisy_backend)\n",
    "print(res_w_qaoa)\n",
    "print(\"Quality Ratio:\", res_w_qaoa.fval / exact_result)"
   ]
  }
 ],
 "metadata": {
  "kernelspec": {
   "display_name": "Python 3 (ipykernel)",
   "language": "python",
   "name": "python3"
  },
  "language_info": {
   "codemirror_mode": {
    "name": "ipython",
    "version": 3
   },
   "file_extension": ".py",
   "mimetype": "text/x-python",
   "name": "python",
   "nbconvert_exporter": "python",
   "pygments_lexer": "ipython3"
  }
 },
 "nbformat": 4,
 "nbformat_minor": 1
}

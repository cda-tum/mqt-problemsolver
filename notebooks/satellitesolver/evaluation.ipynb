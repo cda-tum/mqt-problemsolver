{
 "cells": [
  {
   "cell_type": "markdown",
   "metadata": {},
   "source": [
    "# Satellite Solver"
   ]
  },
  {
   "cell_type": "code",
   "execution_count": null,
   "metadata": {},
   "outputs": [],
   "source": [
    "import pandas as pd\n",
    "\n",
    "%matplotlib inline\n",
    "import matplotlib.pyplot as plt\n",
    "\n",
    "size = 14\n",
    "legendsize = 12"
   ]
  },
  {
   "cell_type": "markdown",
   "metadata": {},
   "source": [
    "# Generate Plots Noise-Free Simulation"
   ]
  },
  {
   "cell_type": "code",
   "execution_count": null,
   "metadata": {},
   "outputs": [],
   "source": [
    "df = pd.read_csv(\"res_satellite_solver.csv\", sep=\",\")\n",
    "ax1 = df.plot(x=\"num_qubits\", y=\"calculation_time_vqe\", color=\"green\", style=\"o-\", label=\"VQE\")\n",
    "ax1.tick_params(which=\"both\", labelsize=size)\n",
    "ax2 = df.plot(x=\"num_qubits\", y=\"calculation_time_qaoa\", color=\"orange\", style=\".-\", ax=ax1, label=\"QAOA\")\n",
    "ax3 = df.plot(x=\"num_qubits\", y=\"calculation_time_wqaoa\", color=\"blue\", style=\"+-\", ax=ax1, label=\"W-QAOA\")\n",
    "plt.xlabel(\"Number of Locations\", size=size)\n",
    "plt.ylabel(\"Calculation Time [s]\", size=size)\n",
    "plt.legend(fontsize=legendsize)\n",
    "plt.yscale(\"log\")\n",
    "plt.xticks(range(df.num_qubits.min(), df.num_qubits.max() + 1, 2))\n",
    "plt.savefig(\"sat_solver_time.pdf\", bbox_inches=\"tight\")\n",
    "plt.show()\n",
    "\n",
    "ax1 = df.plot(x=\"num_qubits\", y=\"success_rate_vqe\", color=\"green\", style=\"o-\", label=\"VQE\")\n",
    "ax1.tick_params(which=\"both\", labelsize=size)\n",
    "ax2 = df.plot(x=\"num_qubits\", y=\"success_rate_qaoa\", color=\"orange\", style=\".-\", ax=ax1, label=\"QAOA\")\n",
    "ax3 = df.plot(x=\"num_qubits\", y=\"success_rate_wqaoa\", color=\"blue\", style=\"+-\", ax=ax1, label=\"W-QAOA\")\n",
    "\n",
    "plt.xticks(range(df.num_qubits.min(), df.num_qubits.max() + 1, 2))\n",
    "plt.xlabel(\"Number of Locations\", size=size)\n",
    "plt.ylabel(\"Result Quality\", size=size)\n",
    "plt.legend(fontsize=legendsize)\n",
    "plt.savefig(\"sat_solver_quality.pdf\", bbox_inches=\"tight\")\n",
    "plt.show()"
   ]
  },
  {
   "cell_type": "markdown",
   "metadata": {},
   "source": [
    "# Generate Plots Noise-Aware Simulation"
   ]
  },
  {
   "cell_type": "code",
   "execution_count": null,
   "metadata": {},
   "outputs": [],
   "source": [
    "df = pd.read_csv(\"res_satellite_solver_noisy.csv\", sep=\",\")\n",
    "\n",
    "ax1 = df.plot(x=\"num_qubits\", y=\"calculation_time_vqe\", color=\"green\", style=\"o-\", label=\"VQE\")\n",
    "ax1.tick_params(which=\"both\", labelsize=size)\n",
    "ax2 = df.plot(x=\"num_qubits\", y=\"calculation_time_qaoa\", color=\"orange\", style=\".-\", ax=ax1, label=\"QAOA\")\n",
    "ax3 = df.plot(x=\"num_qubits\", y=\"calculation_time_wqaoa\", color=\"blue\", style=\"+-\", ax=ax1, label=\"W-QAOA\")\n",
    "\n",
    "plt.xlabel(\"Number of Locations\", size=size)\n",
    "plt.ylabel(\"Calculation Time [s]\", size=size)\n",
    "plt.legend(fontsize=legendsize)\n",
    "plt.yscale(\"log\")\n",
    "plt.savefig(\"sat_solver_time_noisy.pdf\", bbox_inches=\"tight\")\n",
    "plt.show()\n",
    "\n",
    "ax1 = df.plot(x=\"num_qubits\", y=\"success_rate_vqe\", color=\"green\", style=\"o-\", label=\"VQE\")\n",
    "ax1.tick_params(which=\"both\", labelsize=size)\n",
    "ax2 = df.plot(x=\"num_qubits\", y=\"success_rate_qaoa\", color=\"orange\", style=\".-\", ax=ax1, label=\"QAOA\")\n",
    "ax3 = df.plot(x=\"num_qubits\", y=\"success_rate_wqaoa\", color=\"blue\", style=\"+-\", ax=ax1, label=\"W-QAOA\")\n",
    "\n",
    "plt.xlabel(\"Number of Locations\", size=size)\n",
    "plt.ylabel(\"Result Quality\", size=size)\n",
    "plt.legend(fontsize=legendsize)\n",
    "plt.savefig(\"sat_solver_quality_noisy.pdf\", bbox_inches=\"tight\")\n",
    "plt.show()"
   ]
  }
 ],
 "metadata": {
  "kernelspec": {
   "display_name": "Python 3 (ipykernel)",
   "language": "python",
   "name": "python3"
  },
  "language_info": {
   "codemirror_mode": {
    "name": "ipython",
    "version": 3
   },
   "file_extension": ".py",
   "mimetype": "text/x-python",
   "name": "python",
   "nbconvert_exporter": "python",
   "pygments_lexer": "ipython3"
  }
 },
 "nbformat": 4,
 "nbformat_minor": 1
}

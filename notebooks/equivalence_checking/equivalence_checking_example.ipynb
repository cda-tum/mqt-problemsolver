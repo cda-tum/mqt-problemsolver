{
 "cells": [
  {
   "cell_type": "markdown",
   "metadata": {},
   "source": [
    "# Import"
   ]
  },
  {
   "cell_type": "code",
   "execution_count": null,
   "metadata": {},
   "outputs": [],
   "source": [
    "from mqt.problemsolver.equivalence_checking import equivalence_checking"
   ]
  },
  {
   "cell_type": "markdown",
   "metadata": {},
   "source": [
    "# Testing different Parameter Combinations for a Miter with known Counter Examples"
   ]
  },
  {
   "cell_type": "code",
   "execution_count": null,
   "metadata": {},
   "outputs": [],
   "source": [
    "# Generate table with all possible parameter combinations\n",
    "# that shows the used Grover iterations if correct counter examples\n",
    "# are found in all runs.\n",
    "equivalence_checking.try_parameter_combinations(\n",
    "    path=\"res_equivalence_checking.csv\",  # Path to save the results\n",
    "    range_deltas=[0.1, 0.3, 0.5, 0.7, 0.9],  # Range of \"delta\" values, a threshold parameter introduced in the paper\n",
    "    range_num_bits=[6, 7, 8, 9],  # Range of number of bits of the circuits to be verified\n",
    "    range_fraction_counter_examples=[0, 0.01, 0.05, 0.1, 0.2],  # Range of fraction of counter examples to be used\n",
    "    shots_factor=8.0,  # The number of shots for the quantum circuit is calculated as shots_factor * 2^num_bits\n",
    "    num_runs=10,  # Number of individual runs for each parameter combination\n",
    "    verbose=False,  # If True, the progress is printed\n",
    ")"
   ]
  },
  {
   "cell_type": "markdown",
   "metadata": {},
   "source": [
    "# Find Counter Examples for given Miter and Parameter Combination"
   ]
  },
  {
   "cell_type": "code",
   "execution_count": null,
   "metadata": {},
   "outputs": [],
   "source": [
    "num_bits = 6\n",
    "num_counter_examples = 5\n",
    "\n",
    "# Create synthetic data for showing the example\n",
    "miter, _ = equivalence_checking.create_condition_string(num_bits=num_bits, num_counter_examples=num_counter_examples)\n",
    "\n",
    "# Run the equivalence checker\n",
    "counter_examples = equivalence_checking.find_counter_examples(\n",
    "    miter=miter,  # The condition string\n",
    "    num_bits=num_bits,  # Number of bits of the circuits to be verified\n",
    "    shots=512,  # Number of shots for the quantum circuit\n",
    "    delta=0.7,  # Threshold parameter introduced in the paper\n",
    ")\n",
    "\n",
    "print(counter_examples)"
   ]
  }
 ],
 "metadata": {
  "kernelspec": {
   "display_name": ".venv",
   "language": "python",
   "name": "python3"
  },
  "language_info": {
   "codemirror_mode": {
    "name": "ipython",
    "version": 3
   },
   "file_extension": ".py",
   "mimetype": "text/x-python",
   "name": "python",
   "nbconvert_exporter": "python",
   "pygments_lexer": "ipython3"
  }
 },
 "nbformat": 4,
 "nbformat_minor": 2
}

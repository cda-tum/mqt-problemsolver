{
 "cells": [
  {
   "cell_type": "markdown",
   "id": "7cddd630",
   "metadata": {},
   "source": [
    "# Imports and Problem Setup"
   ]
  },
  {
   "cell_type": "code",
   "execution_count": null,
   "id": "60541429",
   "metadata": {},
   "outputs": [],
   "source": [
    "from time import time\n",
    "\n",
    "import numpy as np\n",
    "from mqt.qcec import verify\n",
    "\n",
    "from mqt.problemsolver.partialcompiler.qaoa import QAOA"
   ]
  },
  {
   "cell_type": "code",
   "execution_count": null,
   "id": "ccc4c84f",
   "metadata": {},
   "outputs": [],
   "source": [
    "q = QAOA(num_qubits=9, repetitions=3, sample_probability=0.3, considered_following_qubits=1, satellite_use_case=False)"
   ]
  },
  {
   "cell_type": "markdown",
   "id": "de32064a",
   "metadata": {},
   "source": [
    "# Usage of Precompilation Approach"
   ]
  },
  {
   "cell_type": "code",
   "execution_count": null,
   "id": "59a2dc81",
   "metadata": {},
   "outputs": [],
   "source": [
    "qc_compiled_with_all_gates = q.qc_compiled.copy()\n",
    "\n",
    "start = time()\n",
    "compiled_qc = q.remove_unnecessary_gates(qc=qc_compiled_with_all_gates, optimize_swaps=True)\n",
    "time_new_approach = time() - start\n",
    "print(\"Compilation Time at Runtime:\", time_new_approach)"
   ]
  },
  {
   "cell_type": "markdown",
   "id": "6137b1f6",
   "metadata": {},
   "source": [
    "# Baseline for Comparison"
   ]
  },
  {
   "cell_type": "code",
   "execution_count": null,
   "id": "8d75c758",
   "metadata": {},
   "outputs": [],
   "source": [
    "start = time()\n",
    "qc_baseline_compiled = q.compile_qc(baseline=True, opt_level=3)\n",
    "time_baseline = time() - start\n",
    "print(\"Compilation Time at Runtime:\", time_baseline)"
   ]
  },
  {
   "cell_type": "code",
   "execution_count": null,
   "id": "8966512d",
   "metadata": {},
   "outputs": [],
   "source": [
    "time_ratio = time_new_approach / time_baseline\n",
    "if qc_baseline_compiled.count_ops().get(\"cx\"):\n",
    "    cx_count_ratio = compiled_qc.count_ops()[\"cx\"] / qc_baseline_compiled.count_ops()[\"cx\"]\n",
    "else:\n",
    "    cx_count_ratio = 0\n",
    "print(\"Time Ratio:\", np.round(time_ratio, 5))\n",
    "print(\"Compiled Circuit Quality Ratio:\", np.round(cx_count_ratio, 5))"
   ]
  },
  {
   "cell_type": "markdown",
   "id": "f353be60",
   "metadata": {},
   "source": [
    "# Spot Check Using MQT.QCEC"
   ]
  },
  {
   "cell_type": "code",
   "execution_count": null,
   "id": "b625b1e9",
   "metadata": {},
   "outputs": [],
   "source": [
    "print(verify(compiled_qc, qc_baseline_compiled))"
   ]
  }
 ],
 "metadata": {
  "kernelspec": {
   "display_name": "Python 3 (ipykernel)",
   "language": "python",
   "name": "python3"
  },
  "language_info": {
   "codemirror_mode": {
    "name": "ipython",
    "version": 3
   },
   "file_extension": ".py",
   "mimetype": "text/x-python",
   "name": "python",
   "nbconvert_exporter": "python",
   "pygments_lexer": "ipython3"
  }
 },
 "nbformat": 4,
 "nbformat_minor": 5
}

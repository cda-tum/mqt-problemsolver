{
 "cells": [
  {
   "cell_type": "markdown",
   "id": "f8d3cb81",
   "metadata": {},
   "source": [
    "# Pre-Compilation"
   ]
  },
  {
   "cell_type": "code",
   "execution_count": null,
   "id": "1ce842bb",
   "metadata": {},
   "outputs": [],
   "source": [
    "from __future__ import annotations\n",
    "\n",
    "import pandas as pd\n",
    "\n",
    "%matplotlib inline\n",
    "import matplotlib.pyplot as plt\n",
    "\n",
    "size = 14\n",
    "legendsize = 12"
   ]
  },
  {
   "cell_type": "code",
   "execution_count": null,
   "id": "d155a2d1",
   "metadata": {},
   "outputs": [],
   "source": [
    "import math\n",
    "\n",
    "\n",
    "def orderOfMagnitude(number):\n",
    "    return -math.ceil(math.log(number, 10))"
   ]
  },
  {
   "cell_type": "markdown",
   "id": "3ad24eb1",
   "metadata": {},
   "source": [
    "# MaxCut"
   ]
  },
  {
   "cell_type": "code",
   "execution_count": null,
   "id": "6e39d00d",
   "metadata": {},
   "outputs": [],
   "source": [
    "df_maxcut = pd.read_csv(\"res_qaoa.csv\", sep=\",\")\n",
    "df_maxcut[\"num_qubits\"] = df_maxcut[\"num_qubits\"].astype(int)\n",
    "df_maxcut"
   ]
  },
  {
   "cell_type": "code",
   "execution_count": null,
   "id": "c59a720d",
   "metadata": {},
   "outputs": [],
   "source": [
    "def label_encoding(row):\n",
    "    if row[\"considered_following_qubits\"] == 1:\n",
    "        return \"Only Direct Neighbor\"\n",
    "    if row[\"considered_following_qubits\"] == 1000:\n",
    "        return \"All Neighbors\"\n",
    "    return None\n",
    "\n",
    "\n",
    "df_maxcut[\"Encoding Prediction\"] = df_maxcut.apply(label_encoding, axis=1)"
   ]
  },
  {
   "cell_type": "markdown",
   "id": "cc0ff4da",
   "metadata": {},
   "source": [
    "## Graph"
   ]
  },
  {
   "cell_type": "code",
   "execution_count": null,
   "id": "d438c6c9",
   "metadata": {},
   "outputs": [],
   "source": [
    "for considered_following_qubits in [\"Only Direct Neighbor\", \"All Neighbors\"]:\n",
    "    for sample_probability in [0.3, 0.7]:\n",
    "        df_subset = df_maxcut[\n",
    "            (df_maxcut.sample_probability == sample_probability)\n",
    "            & (df_maxcut[\"Encoding Prediction\"] == considered_following_qubits)\n",
    "        ]\n",
    "\n",
    "        ax1 = df_subset.plot(x=\"num_qubits\", y=\"cx_count_proposed\", color=\"orange\", style=\"o-\", label=\"Proposed Scheme\")\n",
    "        ax1.tick_params(which=\"both\", labelsize=size)\n",
    "        df_subset.plot(x=\"num_qubits\", y=\"cx_count_baseline_O0\", color=\"red\", style=\"x-.\", ax=ax1, label=\"Qiskit's O0\")\n",
    "        df_subset.plot(\n",
    "            x=\"num_qubits\", y=\"cx_count_baseline_O1\", color=\"purple\", ax=ax1, style=\".--\", label=\"Qiskit's O1\"\n",
    "        )\n",
    "        df_subset.plot(x=\"num_qubits\", y=\"cx_count_baseline_O2\", color=\"blue\", ax=ax1, style=\"+-.\", label=\"Qiskit's O2\")\n",
    "        df_subset.plot(\n",
    "            x=\"num_qubits\", y=\"cx_count_baseline_O3\", color=\"green\", ax=ax1, style=\"^-.\", label=\"Qiskit's O3\"\n",
    "        )\n",
    "\n",
    "        plt.xlabel(\"Qubits\", size=size)\n",
    "        plt.ylabel(\"Number of two-qubit gates\", size=size)\n",
    "        plt.yscale(\"log\")\n",
    "        plt.legend(fontsize=legendsize)\n",
    "        plt.savefig(\n",
    "            \"cx_\" + str(considered_following_qubits) + \"_\" + str(sample_probability) + \".pdf\", bbox_inches=\"tight\"\n",
    "        )\n",
    "        plt.show()\n",
    "\n",
    "        ax2 = df_subset.plot(x=\"num_qubits\", y=\"time_proposed\", color=\"orange\", style=\"o-\", label=\"Proposed Scheme\")\n",
    "        ax2.tick_params(which=\"both\", labelsize=size)\n",
    "        df_subset.plot(x=\"num_qubits\", y=\"time_baseline_O0\", color=\"red\", ax=ax2, style=\"x-.\", label=\"Qiskit's O0\")\n",
    "        df_subset.plot(x=\"num_qubits\", y=\"time_baseline_O1\", color=\"purple\", ax=ax2, style=\".--\", label=\"Qiskit's O1\")\n",
    "        df_subset.plot(x=\"num_qubits\", y=\"time_baseline_O2\", color=\"blue\", ax=ax2, style=\"+-.\", label=\"Qiskit's O2\")\n",
    "        df_subset.plot(x=\"num_qubits\", y=\"time_baseline_O3\", color=\"green\", ax=ax2, style=\"^-.\", label=\"Qiskit's O3\")\n",
    "\n",
    "        plt.xlabel(\"Qubits\", size=size)\n",
    "        plt.ylabel(\"Time\", size=size)\n",
    "        plt.yscale(\"log\")\n",
    "        plt.legend(fontsize=legendsize)\n",
    "        plt.savefig(\n",
    "            \"time_\" + str(considered_following_qubits) + \"_\" + str(sample_probability) + \".pdf\", bbox_inches=\"tight\"\n",
    "        )\n",
    "        plt.show()"
   ]
  },
  {
   "cell_type": "markdown",
   "id": "b9520d0e",
   "metadata": {},
   "source": [
    "## Averages"
   ]
  },
  {
   "cell_type": "code",
   "execution_count": null,
   "id": "7f8d8944",
   "metadata": {},
   "outputs": [],
   "source": [
    "df_maxcut[\"time_ratio_O3\"] = df_maxcut[\"time_proposed\"] / df_maxcut[\"time_baseline_O3\"]\n",
    "df_maxcut[\"order_magnitudes_diff\"] = df_maxcut[\"time_ratio_O3\"].apply(orderOfMagnitude)\n",
    "df_maxcut[\"order_magnitudes_diff\"].describe()"
   ]
  },
  {
   "cell_type": "code",
   "execution_count": null,
   "id": "da967ba1",
   "metadata": {},
   "outputs": [],
   "source": [
    "df_maxcut[\"cx_ratio_O3\"] = df_maxcut[\"cx_count_proposed\"] / df_maxcut[\"cx_count_baseline_O3\"]\n",
    "df_maxcut.cx_ratio_O3.describe()"
   ]
  },
  {
   "cell_type": "markdown",
   "id": "392d94bc",
   "metadata": {},
   "source": [
    "# Satellite"
   ]
  },
  {
   "cell_type": "code",
   "execution_count": null,
   "id": "cb53e7d5",
   "metadata": {},
   "outputs": [],
   "source": [
    "df_satellite = pd.read_csv(\"res_satellite.csv\", sep=\",\")\n",
    "df_satellite[\"num_qubits\"] = df_satellite[\"num_qubits\"].astype(int)\n",
    "df_satellite"
   ]
  },
  {
   "cell_type": "markdown",
   "id": "9f743f84",
   "metadata": {},
   "source": [
    "## Graphs"
   ]
  },
  {
   "cell_type": "code",
   "execution_count": null,
   "id": "8a50d9df",
   "metadata": {},
   "outputs": [],
   "source": [
    "df_subset = df_satellite[(df_satellite.sample_probability == 0.4) & (df_satellite.considered_following_qubits == 1)]\n",
    "\n",
    "ax1 = df_subset.plot(x=\"num_qubits\", y=\"cx_count_proposed\", color=\"orange\", style=\"o-\", label=\"Proposed Scheme\")\n",
    "ax1.tick_params(which=\"both\", labelsize=size)\n",
    "df_subset.plot(x=\"num_qubits\", y=\"cx_count_baseline_O0\", color=\"red\", style=\"x-.\", ax=ax1, label=\"Qiskit's O0\")\n",
    "df_subset.plot(x=\"num_qubits\", y=\"cx_count_baseline_O1\", color=\"purple\", ax=ax1, style=\".--\", label=\"Qiskit's O1\")\n",
    "df_subset.plot(x=\"num_qubits\", y=\"cx_count_baseline_O2\", color=\"blue\", ax=ax1, style=\"+-.\", label=\"Qiskit's O2\")\n",
    "df_subset.plot(x=\"num_qubits\", y=\"cx_count_baseline_O3\", color=\"green\", ax=ax1, style=\"^-.\", label=\"Qiskit's O3\")\n",
    "\n",
    "\n",
    "plt.ylim(10e0 * 1.5, 10e2)\n",
    "plt.xlabel(\"Qubits\", size=size)\n",
    "plt.ylabel(\"Number of two-qubit gates\", size=size)\n",
    "plt.yscale(\"log\")\n",
    "plt.legend(fontsize=legendsize)\n",
    "plt.savefig(\"sat_cx.pdf\", bbox_inches=\"tight\")\n",
    "plt.show()\n",
    "\n",
    "ax2 = df_subset.plot(x=\"num_qubits\", y=\"time_proposed\", color=\"orange\", style=\"o-\", label=\"Proposed Scheme\")\n",
    "ax2.tick_params(which=\"both\", labelsize=size)\n",
    "df_subset.plot(x=\"num_qubits\", y=\"time_baseline_O0\", color=\"red\", ax=ax2, style=\"x-.\", label=\"Qiskit's O0\")\n",
    "df_subset.plot(x=\"num_qubits\", y=\"time_baseline_O1\", color=\"purple\", ax=ax2, style=\".--\", label=\"Qiskit's O1\")\n",
    "df_subset.plot(x=\"num_qubits\", y=\"time_baseline_O2\", color=\"blue\", ax=ax2, style=\"+-.\", label=\"Qiskit's O2\")\n",
    "df_subset.plot(x=\"num_qubits\", y=\"time_baseline_O3\", color=\"green\", ax=ax2, style=\"^-.\", label=\"Qiskit's O3\")\n",
    "\n",
    "\n",
    "plt.xlabel(\"Qubits\", size=size)\n",
    "plt.ylabel(\"Time\", size=size)\n",
    "\n",
    "plt.yscale(\"log\")\n",
    "plt.legend(fontsize=legendsize, loc=\"center right\")\n",
    "plt.savefig(\"sat_time.pdf\", bbox_inches=\"tight\")\n",
    "plt.show()"
   ]
  },
  {
   "cell_type": "code",
   "execution_count": null,
   "id": "b269ff67",
   "metadata": {},
   "outputs": [],
   "source": [
    "df_satellite[\"time_ratio_O3\"] = df_satellite[\"time_proposed\"] / df_satellite[\"time_baseline_O3\"]\n",
    "df_satellite[\"order_magnitudes_diff\"] = df_satellite[\"time_ratio_O3\"].apply(orderOfMagnitude)\n",
    "df_satellite[\"order_magnitudes_diff\"].describe()"
   ]
  },
  {
   "cell_type": "code",
   "execution_count": null,
   "id": "cc181700",
   "metadata": {},
   "outputs": [],
   "source": [
    "df_satellite[\"cx_ratio_O3\"] = df_satellite[\"cx_count_proposed\"] / df_satellite[\"cx_count_baseline_O3\"]\n",
    "df_satellite.cx_ratio_O3.describe()"
   ]
  }
 ],
 "metadata": {
  "kernelspec": {
   "display_name": "Python 3 (ipykernel)",
   "language": "python",
   "name": "python3"
  },
  "language_info": {
   "codemirror_mode": {
    "name": "ipython",
    "version": 3
   },
   "file_extension": ".py",
   "mimetype": "text/x-python",
   "name": "python",
   "nbconvert_exporter": "python",
   "pygments_lexer": "ipython3"
  }
 },
 "nbformat": 4,
 "nbformat_minor": 5
}

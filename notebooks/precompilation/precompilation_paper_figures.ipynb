{
 "cells": [
  {
   "cell_type": "markdown",
   "id": "577fef9c",
   "metadata": {},
   "source": [
    "# Paper Example"
   ]
  },
  {
   "cell_type": "code",
   "execution_count": null,
   "id": "9de66936",
   "metadata": {},
   "outputs": [],
   "source": [
    "from qiskit import QuantumCircuit, transpile\n",
    "from qiskit.circuit import Parameter\n",
    "from qiskit.providers.fake_provider import FakeQuito\n",
    "\n",
    "cmap = FakeQuito().configuration().coupling_map\n",
    "p = Parameter(\"p\")"
   ]
  },
  {
   "cell_type": "code",
   "execution_count": null,
   "id": "e00a9aa7",
   "metadata": {},
   "outputs": [],
   "source": [
    "qc = QuantumCircuit(4)\n",
    "qc.rzz(p, 0, 1)\n",
    "qc.rzz(p, 0, 2)\n",
    "qc.rzz(p, 0, 3)\n",
    "qc.rzz(p, 1, 2)\n",
    "qc.rzz(p, 1, 3)\n",
    "qc.rzz(p, 2, 3)\n",
    "qc.draw()"
   ]
  },
  {
   "cell_type": "code",
   "execution_count": null,
   "id": "f29f5496",
   "metadata": {},
   "outputs": [],
   "source": [
    "qc = transpile(qc, coupling_map=cmap, optimization_level=3)\n",
    "print(qc.draw())\n",
    "print(qc.count_ops()[\"swap\"])"
   ]
  },
  {
   "cell_type": "code",
   "execution_count": null,
   "id": "73b1acd3",
   "metadata": {},
   "outputs": [],
   "source": [
    "qc = QuantumCircuit(4)\n",
    "qc.rzz(p, 0, 1)\n",
    "qc.rzz(p, 0, 2)\n",
    "# qc.rzz(p, 0,3)\n",
    "qc.rzz(p, 1, 2)\n",
    "# qc.rzz(p, 1,3)\n",
    "qc.rzz(p, 2, 3)\n",
    "qc.draw()\n",
    "qc = transpile(qc, coupling_map=cmap, optimization_level=3)\n",
    "print(qc.draw())\n",
    "print(qc.count_ops()[\"swap\"])"
   ]
  }
 ],
 "metadata": {
  "kernelspec": {
   "display_name": "Python 3 (ipykernel)",
   "language": "python",
   "name": "python3"
  },
  "language_info": {
   "codemirror_mode": {
    "name": "ipython",
    "version": 3
   },
   "file_extension": ".py",
   "mimetype": "text/x-python",
   "name": "python",
   "nbconvert_exporter": "python",
   "pygments_lexer": "ipython3"
  }
 },
 "nbformat": 4,
 "nbformat_minor": 5
}

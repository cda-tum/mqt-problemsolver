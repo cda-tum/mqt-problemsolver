{
 "cells": [
  {
   "cell_type": "markdown",
   "id": "89f95163",
   "metadata": {},
   "source": [
    "# Import and Problem Visualization"
   ]
  },
  {
   "cell_type": "code",
   "execution_count": null,
   "id": "a7fa5203",
   "metadata": {},
   "outputs": [],
   "source": [
    "from mqt.problemsolver.tsp import TSP\n",
    "\n",
    "tsp = TSP()\n",
    "tsp.print_problem()"
   ]
  },
  {
   "cell_type": "markdown",
   "id": "23ca3f4d",
   "metadata": {},
   "source": [
    "# Definition of Problem Instance"
   ]
  },
  {
   "cell_type": "code",
   "execution_count": null,
   "id": "ce590382",
   "metadata": {},
   "outputs": [],
   "source": [
    "dist_1_2 = 1\n",
    "dist_1_3 = 2\n",
    "dist_1_4 = 3\n",
    "dist_2_3 = 4\n",
    "dist_2_4 = 5\n",
    "dist_3_4 = 6"
   ]
  },
  {
   "cell_type": "markdown",
   "id": "4df56e22",
   "metadata": {},
   "source": [
    "# Get available quantum algorithms"
   ]
  },
  {
   "cell_type": "code",
   "execution_count": null,
   "id": "1a518ef9",
   "metadata": {},
   "outputs": [],
   "source": [
    "available_quantum_algorithms = tsp.get_available_quantum_algorithms()\n",
    "available_quantum_algorithms"
   ]
  },
  {
   "cell_type": "markdown",
   "id": "78c19f1a",
   "metadata": {},
   "source": [
    "# Solve the problem accordingly"
   ]
  },
  {
   "cell_type": "code",
   "execution_count": null,
   "id": "b6a691d6",
   "metadata": {},
   "outputs": [],
   "source": [
    "for algo in available_quantum_algorithms:\n",
    "    print(\"Algorithm: \", algo)\n",
    "    res = tsp.solve(\n",
    "        dist_1_2=dist_1_2,\n",
    "        dist_1_3=dist_1_3,\n",
    "        dist_1_4=dist_1_4,\n",
    "        dist_2_3=dist_2_3,\n",
    "        dist_2_4=dist_2_4,\n",
    "        dist_3_4=dist_3_4,\n",
    "        quantum_algorithm=algo,\n",
    "        objective_function=\"shortest_path\",\n",
    "        num_qubits_qft=10,\n",
    "    )\n",
    "    print(res)"
   ]
  },
  {
   "cell_type": "markdown",
   "id": "78ffab21",
   "metadata": {},
   "source": [
    "# Visualize solution"
   ]
  },
  {
   "cell_type": "code",
   "execution_count": null,
   "id": "6a1de27d",
   "metadata": {},
   "outputs": [],
   "source": [
    "tsp.print_problem(solution=res)"
   ]
  },
  {
   "cell_type": "markdown",
   "id": "d9e52797",
   "metadata": {},
   "source": [
    "# Show classical solution"
   ]
  },
  {
   "cell_type": "code",
   "execution_count": null,
   "id": "3435d9bc",
   "metadata": {},
   "outputs": [],
   "source": [
    "tsp.show_classical_solution()"
   ]
  }
 ],
 "metadata": {
  "kernelspec": {
   "display_name": "Python 3 (ipykernel)",
   "language": "python",
   "name": "python3"
  },
  "language_info": {
   "codemirror_mode": {
    "name": "ipython",
    "version": 3
   },
   "file_extension": ".py",
   "mimetype": "text/x-python",
   "name": "python",
   "nbconvert_exporter": "python",
   "pygments_lexer": "ipython3"
  }
 },
 "nbformat": 4,
 "nbformat_minor": 5
}

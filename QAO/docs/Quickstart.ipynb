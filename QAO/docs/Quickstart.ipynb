{
 "cells": [
  {
   "cell_type": "markdown",
   "id": "ea3d6be5-b9ee-4375-adee-8fa2cb690fca",
   "metadata": {},
   "source": [
    "# Quickstart"
   ]
  },
  {
   "cell_type": "code",
   "execution_count": null,
   "id": "697e4c2b",
   "metadata": {},
   "outputs": [],
   "source": [
    "from mqt.qao import Constraints, ObjectiveFunction, Problem, Solver, Variables"
   ]
  },
  {
   "cell_type": "markdown",
   "id": "02841c4f-a865-452d-a5ca-085a64eccf00",
   "metadata": {},
   "source": [
    "## Declare the variables of the problem"
   ]
  },
  {
   "cell_type": "code",
   "execution_count": null,
   "id": "73c0a2f9-adbd-4f85-8843-b6ab2ef53da8",
   "metadata": {},
   "outputs": [],
   "source": [
    "var = Variables()\n",
    "a = var.add_binary_variable(\"a\")\n",
    "b = var.add_discrete_variable(\"b\", [-1, 1, 3])\n",
    "c = var.add_continuous_variable(\"c\", -2, 2, 0.25)"
   ]
  },
  {
   "cell_type": "markdown",
   "id": "dc5b2a05-c062-46d8-b75e-2bfde4795a19",
   "metadata": {},
   "source": [
    "## Declare the objective functions"
   ]
  },
  {
   "cell_type": "code",
   "execution_count": null,
   "id": "b3f643db-f833-433c-87f8-65cdc5355304",
   "metadata": {},
   "outputs": [],
   "source": [
    "obj_func = ObjectiveFunction()\n",
    "obj_func.add_objective_function(a + b * c + c**2)"
   ]
  },
  {
   "cell_type": "markdown",
   "id": "7b823498-55e1-47df-9b7b-f5f462f38c50",
   "metadata": {},
   "source": [
    "## Declare the constraints"
   ]
  },
  {
   "cell_type": "code",
   "execution_count": null,
   "id": "0c327466-7905-45b9-980a-f96ca8cffadb",
   "metadata": {},
   "outputs": [],
   "source": [
    "cst = Constraints()\n",
    "cst.add_constraint(\"b + c >= 2\", variable_precision=True)"
   ]
  },
  {
   "cell_type": "markdown",
   "id": "53953b24-353e-465e-b4f4-d7c0f2f0f0bf",
   "metadata": {},
   "source": [
    "## Declaration of the problem"
   ]
  },
  {
   "cell_type": "code",
   "execution_count": null,
   "id": "fe643f31-9d3e-4b7f-875a-af27e3dab5ed",
   "metadata": {},
   "outputs": [],
   "source": [
    "prb = Problem()\n",
    "prb.create_problem(var, cst, obj_func)"
   ]
  },
  {
   "cell_type": "markdown",
   "id": "93392cb4",
   "metadata": {},
   "source": [
    "## Solve with Simulated  Annealing"
   ]
  },
  {
   "cell_type": "code",
   "execution_count": null,
   "id": "010ab172",
   "metadata": {},
   "outputs": [],
   "source": [
    "solution = Solver().solve_simulated_annealing(prb)"
   ]
  }
 ],
 "metadata": {
  "kernelspec": {
   "display_name": "Python 3 (ipykernel)",
   "language": "python",
   "name": "python3"
  },
  "language_info": {
   "codemirror_mode": {
    "name": "ipython",
    "version": 3
   },
   "file_extension": ".py",
   "mimetype": "text/x-python",
   "name": "python",
   "nbconvert_exporter": "python",
   "pygments_lexer": "ipython3"
  }
 },
 "nbformat": 4,
 "nbformat_minor": 5
}

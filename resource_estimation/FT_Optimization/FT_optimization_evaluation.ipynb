{
 "cells": [
  {
   "cell_type": "code",
   "execution_count": 1,
   "id": "edc0296d",
   "metadata": {},
   "outputs": [
    {
     "data": {
      "application/javascript": "// Copyright (c) Microsoft Corporation.\n// Licensed under the MIT License.\n\n// This file provides CodeMirror syntax highlighting for Q# magic cells\n// in classic Jupyter Notebooks. It does nothing in other (Jupyter Notebook 7,\n// VS Code, Azure Notebooks, etc.) environments.\n\n// Detect the prerequisites and do nothing if they don't exist.\nif (window.require && window.CodeMirror && window.Jupyter) {\n  // The simple mode plugin for CodeMirror is not loaded by default, so require it.\n  window.require([\"codemirror/addon/mode/simple\"], function defineMode() {\n    let rules = [\n      {\n        token: \"comment\",\n        regex: /(\\/\\/).*/,\n        beginWord: false,\n      },\n      {\n        token: \"string\",\n        regex: String.raw`^\\\"(?:[^\\\"\\\\]|\\\\[\\s\\S])*(?:\\\"|$)`,\n        beginWord: false,\n      },\n      {\n        token: \"keyword\",\n        regex: String.raw`(namespace|open|as|operation|function|body|adjoint|newtype|controlled|internal)\\b`,\n        beginWord: true,\n      },\n      {\n        token: \"keyword\",\n        regex: String.raw`(if|elif|else|repeat|until|fixup|for|in|return|fail|within|apply)\\b`,\n        beginWord: true,\n      },\n      {\n        token: \"keyword\",\n        regex: String.raw`(Adjoint|Controlled|Adj|Ctl|is|self|auto|distribute|invert|intrinsic)\\b`,\n        beginWord: true,\n      },\n      {\n        token: \"keyword\",\n        regex: String.raw`(let|set|use|borrow|mutable)\\b`,\n        beginWord: true,\n      },\n      {\n        token: \"operatorKeyword\",\n        regex: String.raw`(not|and|or)\\b|(w/)`,\n        beginWord: true,\n      },\n      {\n        token: \"operatorKeyword\",\n        regex: String.raw`(=)|(!)|(<)|(>)|(\\+)|(-)|(\\*)|(/)|(\\^)|(%)|(\\|)|(&&&)|(~~~)|(\\.\\.\\.)|(\\.\\.)|(\\?)`,\n        beginWord: false,\n      },\n      {\n        token: \"meta\",\n        regex: String.raw`(Int|BigInt|Double|Bool|Qubit|Pauli|Result|Range|String|Unit)\\b`,\n        beginWord: true,\n      },\n      {\n        token: \"atom\",\n        regex: String.raw`(true|false|Pauli(I|X|Y|Z)|One|Zero)\\b`,\n        beginWord: true,\n      },\n    ];\n    let simpleRules = [];\n    for (let rule of rules) {\n      simpleRules.push({\n        token: rule.token,\n        regex: new RegExp(rule.regex, \"g\"),\n        sol: rule.beginWord,\n      });\n      if (rule.beginWord) {\n        // Need an additional rule due to the fact that CodeMirror simple mode doesn't work with ^ token\n        simpleRules.push({\n          token: rule.token,\n          regex: new RegExp(String.raw`\\W` + rule.regex, \"g\"),\n          sol: false,\n        });\n      }\n    }\n\n    // Register the mode defined above with CodeMirror\n    window.CodeMirror.defineSimpleMode(\"qsharp\", { start: simpleRules });\n    window.CodeMirror.defineMIME(\"text/x-qsharp\", \"qsharp\");\n\n    // Tell Jupyter to associate %%qsharp magic cells with the qsharp mode\n    window.Jupyter.CodeCell.options_default.highlight_modes[\"qsharp\"] = {\n      reg: [/^%%qsharp/],\n    };\n\n    // Force re-highlighting of all cells the first time this code runs\n    for (const cell of window.Jupyter.notebook.get_cells()) {\n      cell.auto_highlight();\n    }\n  });\n}\n",
      "text/plain": []
     },
     "metadata": {},
     "output_type": "display_data"
    }
   ],
   "source": [
    "import os\n",
    "\n",
    "from qiskit.transpiler.passes.optimization import *\n",
    "\n",
    "from pytket import OpType\n",
    "from pytket.passes import *\n",
    "\n",
    "from FT_optimization_generate_data import *\n",
    "\n",
    "SINGLE_QUBIT_AND_CX_QISKIT_STDGATES = [\n",
    "    \"x\",\n",
    "    \"y\",\n",
    "    \"z\",\n",
    "    \"h\",\n",
    "    \"s\",\n",
    "    \"sdg\",\n",
    "    \"t\",\n",
    "    \"tdg\",\n",
    "    \"sx\",\n",
    "    \"rx\",\n",
    "    \"ry\",\n",
    "    \"rz\",\n",
    "    \"cx\",\n",
    "]\n",
    "\n",
    "SINGLE_QUBIT_AND_CX_TKET_STDGATES = {\n",
    "    OpType.Rx,\n",
    "    OpType.Ry,\n",
    "    OpType.Rz,\n",
    "    OpType.X,\n",
    "    OpType.Y,\n",
    "    OpType.Z,\n",
    "    OpType.H,\n",
    "    OpType.S,\n",
    "    OpType.Sdg,\n",
    "    OpType.T,\n",
    "    OpType.Tdg,\n",
    "    OpType.SX,\n",
    "    OpType.CX\n",
    "}"
   ]
  },
  {
   "cell_type": "markdown",
   "id": "50892f46",
   "metadata": {},
   "source": [
    "# Qiskit"
   ]
  },
  {
   "cell_type": "code",
   "execution_count": 2,
   "id": "900ef40b",
   "metadata": {},
   "outputs": [],
   "source": [
    "circuit_folder = \"MQTBenchQiskit\"\n",
    "\n",
    "benchmarks = [f.replace(\".qasm\", \"\") for f in os.listdir(circuit_folder) if f.endswith(\".qasm\")]\n",
    "benchmark_names = [name.split(\"_indep_qiskit_\")[0] for name in benchmarks]\n",
    "benchmarks.sort()\n",
    "\n",
    "basis_gates = SINGLE_QUBIT_AND_CX_QISKIT_STDGATES\n",
    "\n",
    "transpiler_passes = [\n",
    "    [Optimize1qGatesDecomposition(basis=basis_gates), BasisTranslator(SessionEquivalenceLibrary, basis_gates)],\n",
    "    [Optimize1qGatesSimpleCommutation(basis=basis_gates), BasisTranslator(SessionEquivalenceLibrary, basis_gates)],\n",
    "    [CommutationAnalysis(), CommutativeCancellation(basis_gates=basis_gates), BasisTranslator(SessionEquivalenceLibrary, basis_gates)],\n",
    "    [HoareOptimizer(), BasisTranslator(SessionEquivalenceLibrary, basis_gates)],\n",
    "    [TemplateOptimization(), BasisTranslator(SessionEquivalenceLibrary, basis_gates)],\n",
    "]"
   ]
  },
  {
   "cell_type": "code",
   "execution_count": 3,
   "id": "6777daf4",
   "metadata": {},
   "outputs": [
    {
     "name": "stderr",
     "output_type": "stream",
     "text": [
      "  0%|          | 0/12 [00:00<?, ?it/s]"
     ]
    },
    {
     "name": "stderr",
     "output_type": "stream",
     "text": [
      "/Users/tobiasforster/Documents/Projects/FT Optimization Public Code/mqt-problemsolver/resource_estimation/FT_optimization_generate_data.py:172: FutureWarning: The behavior of DataFrame concatenation with empty or all-NA entries is deprecated. In a future version, this will no longer exclude empty or all-NA columns when determining the result dtypes. To retain the old behavior, exclude the relevant entries before the concat operation.\n",
      "  df_existing = pd.concat([df_existing, new_data], ignore_index=True)\n",
      " 92%|█████████▏| 11/12 [13:49<01:56, 116.69s/it]"
     ]
    },
    {
     "name": "stdout",
     "output_type": "stream",
     "text": [
      "Error processing qwalk-v-chain_indep_qiskit_7 [<qiskit.transpiler.passes.optimization.hoare_opt.HoareOptimizer object at 0x15e48c410>, <qiskit.transpiler.passes.basis.basis_translator.BasisTranslator object at 0x15e30ede0>]\n",
      "'Node not in DAG'\n"
     ]
    },
    {
     "name": "stderr",
     "output_type": "stream",
     "text": [
      "100%|██████████| 12/12 [13:53<00:00, 69.45s/it] "
     ]
    },
    {
     "name": "stdout",
     "output_type": "stream",
     "text": [
      "Results saved and updated in results_qiskit.xlsx\n"
     ]
    },
    {
     "name": "stderr",
     "output_type": "stream",
     "text": [
      "\n"
     ]
    }
   ],
   "source": [
    "generate_data(\n",
    "    f\"results_qiskit.xlsx\",\n",
    "    benchmarks, transpiler_passes,\n",
    "    None,\n",
    "    'qiskit',\n",
    ")"
   ]
  },
  {
   "cell_type": "markdown",
   "id": "69782022",
   "metadata": {},
   "source": [
    "# Tket"
   ]
  },
  {
   "cell_type": "code",
   "execution_count": null,
   "id": "65046dcb",
   "metadata": {},
   "outputs": [],
   "source": [
    "circuit_folder = \"MQTBenchTKET\"\n",
    "\n",
    "benchmarks = [f.replace(\".qasm\", \"\") for f in os.listdir(circuit_folder) if f.endswith(\".qasm\")]\n",
    "benchmark_names = [name.split(\"_indep_tket_\")[0] for name in benchmarks]\n",
    "benchmarks.sort()\n",
    "\n",
    "transpiler_passes = [\n",
    "    RemoveRedundancies(),\n",
    "    CliffordSimp(),\n",
    "    FullPeepholeOptimise(),\n",
    "    EulerAngleReduction(OpType.Rx, OpType.Ry),\n",
    "    KAKDecomposition(),\n",
    "    RepeatPass(SequencePass([CommuteThroughMultis(), RemoveRedundancies()]))\n",
    "]\n",
    "\n",
    "transpiler_pass_names = [\n",
    "    \"RemoveRedundancies\",\n",
    "    \"CliffordSimp\",\n",
    "    \"FullPeepholeOptimise\",\n",
    "    \"EulerAngleReduction\",\n",
    "    \"KAKDecomposition\",\n",
    "    \"RepeatPass\"\n",
    "]"
   ]
  },
  {
   "cell_type": "code",
   "execution_count": null,
   "id": "706b9499",
   "metadata": {},
   "outputs": [],
   "source": [
    "generate_data(\n",
    "    f\"results_tket.xlsx\",\n",
    "    benchmarks,\n",
    "    transpiler_passes,\n",
    "    transpiler_pass_names,\n",
    "    'tket'\n",
    ")"
   ]
  }
 ],
 "metadata": {
  "kernelspec": {
   "display_name": ".venv",
   "language": "python",
   "name": "python3"
  },
  "language_info": {
   "codemirror_mode": {
    "name": "ipython",
    "version": 3
   },
   "file_extension": ".py",
   "mimetype": "text/x-python",
   "name": "python",
   "nbconvert_exporter": "python",
   "pygments_lexer": "ipython3",
   "version": "3.12.10"
  }
 },
 "nbformat": 4,
 "nbformat_minor": 5
}

{
 "cells": [
  {
   "cell_type": "code",
   "execution_count": null,
   "id": "edc0296d",
   "metadata": {},
   "outputs": [],
   "source": [
    "import os\n",
    "\n",
    "from qiskit.transpiler.passes.optimization import *\n",
    "from qiskit.transpiler.passes import *\n",
    "from qiskit.circuit.equivalence_library import SessionEquivalenceLibrary\n",
    "\n",
    "from pytket import OpType\n",
    "from pytket.passes import *\n",
    "\n",
    "from FT_optimization_generate_data import *\n",
    "\n",
    "SINGLE_QUBIT_AND_CX_QISKIT_STDGATES = [\n",
    "    \"x\",\n",
    "    \"y\",\n",
    "    \"z\",\n",
    "    \"h\",\n",
    "    \"s\",\n",
    "    \"sdg\",\n",
    "    \"t\",\n",
    "    \"tdg\",\n",
    "    \"sx\",\n",
    "    \"rx\",\n",
    "    \"ry\",\n",
    "    \"rz\",\n",
    "    \"cx\",\n",
    "]\n",
    "\n",
    "SINGLE_QUBIT_AND_CX_TKET_STDGATES = {\n",
    "    OpType.Rx,\n",
    "    OpType.Ry,\n",
    "    OpType.Rz,\n",
    "    OpType.X,\n",
    "    OpType.Y,\n",
    "    OpType.Z,\n",
    "    OpType.H,\n",
    "    OpType.S,\n",
    "    OpType.Sdg,\n",
    "    OpType.T,\n",
    "    OpType.Tdg,\n",
    "    OpType.SX,\n",
    "    OpType.CX\n",
    "}"
   ]
  },
  {
   "cell_type": "markdown",
   "id": "50892f46",
   "metadata": {},
   "source": [
    "# Qiskit"
   ]
  },
  {
   "cell_type": "code",
   "execution_count": null,
   "id": "900ef40b",
   "metadata": {},
   "outputs": [],
   "source": [
    "circuit_folder = \"MQTBenchQiskit\"\n",
    "\n",
    "benchmarks = [f.replace(\".qasm\", \"\") for f in os.listdir(circuit_folder) if f.endswith(\".qasm\")]\n",
    "benchmark_names = [name.split(\"_indep_qiskit_\")[0] for name in benchmarks]\n",
    "benchmarks.sort()\n",
    "\n",
    "basis_gates = SINGLE_QUBIT_AND_CX_QISKIT_STDGATES\n",
    "\n",
    "transpiler_passes = [\n",
    "    [Optimize1qGatesDecomposition(basis=basis_gates), BasisTranslator(SessionEquivalenceLibrary, basis_gates)],\n",
    "    [Optimize1qGatesSimpleCommutation(basis=basis_gates), BasisTranslator(SessionEquivalenceLibrary, basis_gates)],\n",
    "    [CommutationAnalysis(), CommutativeCancellation(basis_gates=basis_gates), BasisTranslator(SessionEquivalenceLibrary, basis_gates)],\n",
    "    [HoareOptimizer(), BasisTranslator(SessionEquivalenceLibrary, basis_gates)],\n",
    "    [TemplateOptimization(), BasisTranslator(SessionEquivalenceLibrary, basis_gates)],\n",
    "]"
   ]
  },
  {
   "cell_type": "code",
   "execution_count": null,
   "id": "6777daf4",
   "metadata": {},
   "outputs": [],
   "source": [
    "generate_data(\n",
    "    f\"results_qiskit.xlsx\",\n",
    "    benchmarks, transpiler_passes,\n",
    "    None,\n",
    "    'qiskit',\n",
    ")"
   ]
  },
  {
   "cell_type": "markdown",
   "id": "69782022",
   "metadata": {},
   "source": [
    "# Tket"
   ]
  },
  {
   "cell_type": "code",
   "execution_count": null,
   "id": "65046dcb",
   "metadata": {},
   "outputs": [],
   "source": [
    "circuit_folder = \"MQTBenchTKET\"\n",
    "\n",
    "benchmarks = [f.replace(\".qasm\", \"\") for f in os.listdir(circuit_folder) if f.endswith(\".qasm\")]\n",
    "benchmark_names = [name.split(\"_indep_tket_\")[0] for name in benchmarks]\n",
    "benchmarks.sort()\n",
    "\n",
    "transpiler_passes = [\n",
    "    RemoveRedundancies(),\n",
    "    CliffordSimp(),\n",
    "    FullPeepholeOptimise(),\n",
    "    EulerAngleReduction(OpType.Rx, OpType.Ry),\n",
    "    KAKDecomposition(),\n",
    "    RepeatPass(SequencePass([CommuteThroughMultis(), RemoveRedundancies()]))\n",
    "]\n",
    "\n",
    "transpiler_pass_names = [\n",
    "    \"RemoveRedundancies\",\n",
    "    \"CliffordSimp\",\n",
    "    \"FullPeepholeOptimise\",\n",
    "    \"EulerAngleReduction\",\n",
    "    \"KAKDecomposition\",\n",
    "    \"RepeatPass\"\n",
    "]"
   ]
  },
  {
   "cell_type": "code",
   "execution_count": null,
   "id": "706b9499",
   "metadata": {},
   "outputs": [],
   "source": [
    "generate_data(\n",
    "    f\"results_tket.xlsx\",\n",
    "    benchmarks,\n",
    "    transpiler_passes,\n",
    "    transpiler_pass_names,\n",
    "    'tket'\n",
    ")"
   ]
  }
 ],
 "metadata": {
  "kernelspec": {
   "display_name": ".venv",
   "language": "python",
   "name": "python3"
  },
  "language_info": {
   "codemirror_mode": {
    "name": "ipython",
    "version": 3
   },
   "file_extension": ".py",
   "mimetype": "text/x-python",
   "name": "python",
   "nbconvert_exporter": "python",
   "pygments_lexer": "ipython3",
   "version": "3.13.3"
  }
 },
 "nbformat": 4,
 "nbformat_minor": 5
}

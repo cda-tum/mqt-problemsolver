{
 "cells": [
  {
   "cell_type": "code",
   "execution_count": null,
   "id": "edc0296d",
   "metadata": {},
   "outputs": [],
   "source": [
    "# Ensure a qsharp version of 1.17.0 or newer in this configuration when using qiskit>=2.0.\n",
    "\n",
    "import pathlib\n",
    "\n",
    "from ft_optimization_generate_data import (\n",
    "    SINGLE_QUBIT_AND_CX_QISKIT_STDGATES,\n",
    "    generate_data,\n",
    ")\n",
    "from pytket import OpType\n",
    "from pytket.passes import (\n",
    "    CliffordSimp,\n",
    "    CommuteThroughMultis,\n",
    "    EulerAngleReduction,\n",
    "    FullPeepholeOptimise,\n",
    "    KAKDecomposition,\n",
    "    RemoveRedundancies,\n",
    "    RepeatPass,\n",
    "    SequencePass,\n",
    ")\n",
    "from qiskit.circuit.equivalence_library import SessionEquivalenceLibrary\n",
    "from qiskit.transpiler.passes import BasisTranslator\n",
    "from qiskit.transpiler.passes.optimization import (\n",
    "    CommutationAnalysis,\n",
    "    CommutativeCancellation,\n",
    "    HoareOptimizer,\n",
    "    Optimize1qGatesDecomposition,\n",
    "    Optimize1qGatesSimpleCommutation,\n",
    "    TemplateOptimization,\n",
    ")"
   ]
  },
  {
   "cell_type": "markdown",
   "id": "50892f46",
   "metadata": {},
   "source": [
    "# Qiskit"
   ]
  },
  {
   "cell_type": "code",
   "execution_count": null,
   "id": "900ef40b",
   "metadata": {},
   "outputs": [],
   "source": [
    "circuit_folder = \"mqtbench\"\n",
    "\n",
    "benchmarks = [f.name.replace(\".qasm\", \"\") for f in pathlib.Path(circuit_folder).iterdir() if f.name.endswith(\".qasm\")]\n",
    "benchmark_names = [name.split(\"_indep_qiskit_\")[0] for name in benchmarks]\n",
    "benchmarks.sort()\n",
    "\n",
    "basis_gates = SINGLE_QUBIT_AND_CX_QISKIT_STDGATES\n",
    "\n",
    "transpiler_passes = [\n",
    "    [Optimize1qGatesDecomposition(basis=basis_gates), BasisTranslator(SessionEquivalenceLibrary, basis_gates)],\n",
    "    [Optimize1qGatesSimpleCommutation(basis=basis_gates), BasisTranslator(SessionEquivalenceLibrary, basis_gates)],\n",
    "    [\n",
    "        CommutationAnalysis(),\n",
    "        CommutativeCancellation(basis_gates=basis_gates),\n",
    "        BasisTranslator(SessionEquivalenceLibrary, basis_gates),\n",
    "    ],\n",
    "    [HoareOptimizer(), BasisTranslator(SessionEquivalenceLibrary, basis_gates)],\n",
    "    [TemplateOptimization(), BasisTranslator(SessionEquivalenceLibrary, basis_gates)],\n",
    "]"
   ]
  },
  {
   "cell_type": "code",
   "execution_count": null,
   "id": "6777daf4",
   "metadata": {},
   "outputs": [],
   "source": [
    "generate_data(\n",
    "    \"results_qiskit.xlsx\",\n",
    "    benchmarks,\n",
    "    transpiler_passes,\n",
    "    None,\n",
    "    \"qiskit\",\n",
    ")"
   ]
  },
  {
   "cell_type": "markdown",
   "id": "69782022",
   "metadata": {},
   "source": [
    "# Tket"
   ]
  },
  {
   "cell_type": "code",
   "execution_count": null,
   "id": "65046dcb",
   "metadata": {},
   "outputs": [],
   "source": [
    "circuit_folder = \"mqtbench\"\n",
    "\n",
    "benchmarks = [f.name.replace(\".qasm\", \"\") for f in pathlib.Path(circuit_folder).iterdir() if f.name.endswith(\".qasm\")]\n",
    "benchmark_names = [name.split(\"_indep_tket_\")[0] for name in benchmarks]\n",
    "benchmarks.sort()\n",
    "\n",
    "transpiler_passes = [\n",
    "    RemoveRedundancies(),\n",
    "    CliffordSimp(),\n",
    "    FullPeepholeOptimise(),\n",
    "    EulerAngleReduction(OpType.Rx, OpType.Ry),\n",
    "    KAKDecomposition(),\n",
    "    RepeatPass(SequencePass([CommuteThroughMultis(), RemoveRedundancies()])),\n",
    "]\n",
    "\n",
    "transpiler_pass_names = [\n",
    "    \"RemoveRedundancies\",\n",
    "    \"CliffordSimp\",\n",
    "    \"FullPeepholeOptimise\",\n",
    "    \"EulerAngleReduction\",\n",
    "    \"KAKDecomposition\",\n",
    "    \"RepeatPass\",\n",
    "]"
   ]
  },
  {
   "cell_type": "code",
   "execution_count": null,
   "id": "706b9499",
   "metadata": {},
   "outputs": [],
   "source": [
    "generate_data(\"results_tket.xlsx\", benchmarks, transpiler_passes, transpiler_pass_names, \"tket\")"
   ]
  }
 ],
 "metadata": {
  "kernelspec": {
   "display_name": ".venv",
   "language": "python",
   "name": "python3"
  },
  "language_info": {
   "codemirror_mode": {
    "name": "ipython",
    "version": 3
   },
   "file_extension": ".py",
   "mimetype": "text/x-python",
   "name": "python",
   "nbconvert_exporter": "python",
   "pygments_lexer": "ipython3"
  }
 },
 "nbformat": 4,
 "nbformat_minor": 5
}

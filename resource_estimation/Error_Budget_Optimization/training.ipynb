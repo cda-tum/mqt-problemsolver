{
 "cells": [
  {
   "cell_type": "code",
   "execution_count": 2,
   "id": "008bbab2",
   "metadata": {},
   "outputs": [],
   "source": [
    "import numpy as np\n",
    "from sklearn.ensemble import RandomForestRegressor\n",
    "from sklearn.model_selection import train_test_split\n",
    "from sklearn.preprocessing import StandardScaler, MinMaxScaler\n",
    "from sklearn.utils import shuffle\n",
    "from sklearn.metrics import r2_score\n",
    "from qsharp.estimator import EstimatorParams, ErrorBudgetPartition, LogicalCounts\n",
    "from qsharp.interop.qiskit import estimate, ResourceEstimatorBackend\n",
    "import joblib\n",
    "from sklearn.model_selection import cross_val_score\n",
    "from sklearn.model_selection import GridSearchCV"
   ]
  },
  {
   "cell_type": "markdown",
   "id": "792f8429",
   "metadata": {},
   "source": [
    "### Split Data into Train and Test for Three Different Error Budgets"
   ]
  },
  {
   "cell_type": "code",
   "execution_count": 5,
   "id": "7484ffe5",
   "metadata": {},
   "outputs": [],
   "source": [
    "data = np.load('data_zero_point_one_percent.npy')\n",
    "\n",
    "X = data[:, :-3]\n",
    "Y = data[:, -3:]\n",
    "\n",
    "np.random.seed(142)\n",
    "indices = np.random.permutation(len(X))\n",
    "\n",
    "train_size = int(0.75 * len(X))\n",
    "train_indices = indices[:train_size]\n",
    "test_indices = indices[train_size:]\n",
    "\n",
    "X_train, X_test = X[train_indices], X[test_indices]\n",
    "Y_train, Y_test = Y[train_indices], Y[test_indices]\n",
    "\n",
    "np.save('X_test_zero_point_one_percent.npy', X_test)\n",
    "np.save('Y_test_zero_point_one_percent.npy', Y_test)\n",
    "\n",
    "data = np.load('data_one_percent.npy')\n",
    "\n",
    "X = data[:, :-3]\n",
    "Y = data[:, -3:]\n",
    "\n",
    "X_train, X_test = X[train_indices], X[test_indices]\n",
    "Y_train, Y_test = Y[train_indices], Y[test_indices]\n",
    "\n",
    "np.save('X_test_one_percent.npy', X_test)\n",
    "np.save('Y_test_one_percent.npy', Y_test)\n",
    "\n",
    "data = np.load('data_ten_percent.npy')\n",
    "\n",
    "X = data[:, :-3]\n",
    "Y = data[:, -3:]\n",
    "\n",
    "X_train, X_test = X[train_indices], X[test_indices]\n",
    "Y_train, Y_test = Y[train_indices], Y[test_indices]\n",
    "\n",
    "np.save('X_test_ten_percent.npy', X_test)\n",
    "np.save('Y_test_ten_percent.npy', Y_test)"
   ]
  },
  {
   "cell_type": "markdown",
   "id": "0ec71984",
   "metadata": {},
   "source": [
    "### Example Training for 10% Error Budget"
   ]
  },
  {
   "cell_type": "markdown",
   "id": "4e8eeb4f",
   "metadata": {},
   "source": [
    "#### Grid Search"
   ]
  },
  {
   "cell_type": "code",
   "execution_count": null,
   "id": "9383b244",
   "metadata": {},
   "outputs": [],
   "source": [
    "data = np.load('demonstration_data_ten_percent.npy')\n",
    "print(np.shape(data))\n",
    "print(data[0])\n",
    "\n",
    "X = data[:, :-3]\n",
    "Y = data[:, -3:]\n",
    "\n",
    "model = RandomForestRegressor()\n",
    "param_grid = {\n",
    "    'n_estimators': [50, 100, 200],\n",
    "    'max_depth': [None, 5, 10, 15, 20],\n",
    "    'min_samples_split': [2, 5, 10, 20],\n",
    "    'min_samples_leaf': [1, 2, 4, 8],\n",
    "    'bootstrap': [True, False],\n",
    "}\n",
    "\n",
    "grid_search = GridSearchCV(estimator=model, param_grid=param_grid, cv=4, scoring='r2', n_jobs=-1, verbose=1)\n",
    "grid_search.fit(X, Y)\n",
    "\n",
    "print(\"Best parameters found: \", grid_search.best_params_)\n",
    "best_params = grid_search.best_params_\n",
    "model = grid_search.best_estimator_"
   ]
  },
  {
   "cell_type": "markdown",
   "id": "d869bdaf",
   "metadata": {},
   "source": [
    "#### Training"
   ]
  },
  {
   "cell_type": "code",
   "execution_count": null,
   "id": "136fb479",
   "metadata": {},
   "outputs": [],
   "source": [
    "data = np.load('data_ten_percent.npy')\n",
    "\n",
    "X = data[:, :-3]\n",
    "Y = data[:, -3:]\n",
    "\n",
    "new_model = RandomForestRegressor(**best_params)\n",
    "\n",
    "\n",
    "# Generate random indices reproducibly\n",
    "np.random.seed(142)\n",
    "indices = np.random.permutation(len(X))\n",
    "\n",
    "# Split indices for training and testing sets\n",
    "train_size = int(0.75 * len(X))\n",
    "train_indices = indices[:train_size]\n",
    "test_indices = indices[train_size:]\n",
    "print(test_indices[:3])\n",
    "print(len(test_indices))\n",
    "# Split the data into training and testing sets using the generated indices\n",
    "X_train, X_test = X[train_indices], X[test_indices]\n",
    "Y_train, Y_test = Y[train_indices], Y[test_indices]\n",
    "\n",
    "new_model.fit(X_train, Y_train)"
   ]
  },
  {
   "cell_type": "markdown",
   "id": "83af7c66",
   "metadata": {},
   "source": [
    "#### Saving Model"
   ]
  },
  {
   "cell_type": "code",
   "execution_count": null,
   "id": "23536c48",
   "metadata": {},
   "outputs": [],
   "source": [
    "joblib.dump(model, 'model_ten_percent_demonstration.pkl')"
   ]
  }
 ],
 "metadata": {
  "kernelspec": {
   "display_name": ".venv",
   "language": "python",
   "name": "python3"
  },
  "language_info": {
   "codemirror_mode": {
    "name": "ipython",
    "version": 3
   },
   "file_extension": ".py",
   "mimetype": "text/x-python",
   "name": "python",
   "nbconvert_exporter": "python",
   "pygments_lexer": "ipython3",
   "version": "3.12.10"
  }
 },
 "nbformat": 4,
 "nbformat_minor": 5
}

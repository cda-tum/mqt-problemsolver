{
 "cells": [
  {
   "cell_type": "code",
   "execution_count": 2,
   "id": "4b664df4",
   "metadata": {},
   "outputs": [
    {
     "data": {
      "application/javascript": "// Copyright (c) Microsoft Corporation.\n// Licensed under the MIT License.\n\n// This file provides CodeMirror syntax highlighting for Q# magic cells\n// in classic Jupyter Notebooks. It does nothing in other (Jupyter Notebook 7,\n// VS Code, Azure Notebooks, etc.) environments.\n\n// Detect the prerequisites and do nothing if they don't exist.\nif (window.require && window.CodeMirror && window.Jupyter) {\n  // The simple mode plugin for CodeMirror is not loaded by default, so require it.\n  window.require([\"codemirror/addon/mode/simple\"], function defineMode() {\n    let rules = [\n      {\n        token: \"comment\",\n        regex: /(\\/\\/).*/,\n        beginWord: false,\n      },\n      {\n        token: \"string\",\n        regex: String.raw`^\\\"(?:[^\\\"\\\\]|\\\\[\\s\\S])*(?:\\\"|$)`,\n        beginWord: false,\n      },\n      {\n        token: \"keyword\",\n        regex: String.raw`(namespace|open|as|operation|function|body|adjoint|newtype|controlled|internal)\\b`,\n        beginWord: true,\n      },\n      {\n        token: \"keyword\",\n        regex: String.raw`(if|elif|else|repeat|until|fixup|for|in|return|fail|within|apply)\\b`,\n        beginWord: true,\n      },\n      {\n        token: \"keyword\",\n        regex: String.raw`(Adjoint|Controlled|Adj|Ctl|is|self|auto|distribute|invert|intrinsic)\\b`,\n        beginWord: true,\n      },\n      {\n        token: \"keyword\",\n        regex: String.raw`(let|set|use|borrow|mutable)\\b`,\n        beginWord: true,\n      },\n      {\n        token: \"operatorKeyword\",\n        regex: String.raw`(not|and|or)\\b|(w/)`,\n        beginWord: true,\n      },\n      {\n        token: \"operatorKeyword\",\n        regex: String.raw`(=)|(!)|(<)|(>)|(\\+)|(-)|(\\*)|(/)|(\\^)|(%)|(\\|)|(&&&)|(~~~)|(\\.\\.\\.)|(\\.\\.)|(\\?)`,\n        beginWord: false,\n      },\n      {\n        token: \"meta\",\n        regex: String.raw`(Int|BigInt|Double|Bool|Qubit|Pauli|Result|Range|String|Unit)\\b`,\n        beginWord: true,\n      },\n      {\n        token: \"atom\",\n        regex: String.raw`(true|false|Pauli(I|X|Y|Z)|One|Zero)\\b`,\n        beginWord: true,\n      },\n    ];\n    let simpleRules = [];\n    for (let rule of rules) {\n      simpleRules.push({\n        token: rule.token,\n        regex: new RegExp(rule.regex, \"g\"),\n        sol: rule.beginWord,\n      });\n      if (rule.beginWord) {\n        // Need an additional rule due to the fact that CodeMirror simple mode doesn't work with ^ token\n        simpleRules.push({\n          token: rule.token,\n          regex: new RegExp(String.raw`\\W` + rule.regex, \"g\"),\n          sol: false,\n        });\n      }\n    }\n\n    // Register the mode defined above with CodeMirror\n    window.CodeMirror.defineSimpleMode(\"qsharp\", { start: simpleRules });\n    window.CodeMirror.defineMIME(\"text/x-qsharp\", \"qsharp\");\n\n    // Tell Jupyter to associate %%qsharp magic cells with the qsharp mode\n    window.Jupyter.CodeCell.options_default.highlight_modes[\"qsharp\"] = {\n      reg: [/^%%qsharp/],\n    };\n\n    // Force re-highlighting of all cells the first time this code runs\n    for (const cell of window.Jupyter.notebook.get_cells()) {\n      cell.auto_highlight();\n    }\n  });\n}\n",
      "text/plain": []
     },
     "metadata": {},
     "output_type": "display_data"
    }
   ],
   "source": [
    "import numpy as np\n",
    "import random\n",
    "import qsharp\n",
    "\n",
    "from qiskit import QuantumCircuit\n",
    "\n",
    "from qsharp.estimator import EstimatorParams, ErrorBudgetPartition, LogicalCounts\n",
    "from qsharp.interop.qiskit import estimate, ResourceEstimatorBackend\n",
    "from collections import defaultdict\n",
    "import qiskit\n",
    "from qiskit.compiler import transpile\n",
    "import matplotlib.pyplot as plt\n",
    "\n",
    "import itertools\n",
    "import time\n",
    "import concurrent\n",
    "\n",
    "import os\n",
    "from tqdm.notebook import tqdm\n",
    "\n",
    "from multiprocessing import Pool, Manager, Queue, Value, Array\n",
    "import multiprocessing \n",
    "\n",
    "from IPython.display import clear_output"
   ]
  },
  {
   "cell_type": "markdown",
   "id": "f6890522",
   "metadata": {},
   "source": [
    "### Generate a Numpy Array Consisting of Logical Counts of the Circuits and the Corresponding Optimized Error Budgets"
   ]
  },
  {
   "cell_type": "code",
   "execution_count": null,
   "id": "aca47dbb",
   "metadata": {},
   "outputs": [],
   "source": [
    "def find_optimized_budgets(total_budget, num_iterations, counts):\n",
    "    parameters = EstimatorParams()\n",
    "    default_parameters = EstimatorParams()\n",
    "    default_parameters.error_budget = total_budget\n",
    "\n",
    "    default_result = counts.estimate(default_parameters)\n",
    "    logical_counts = default_result['logicalCounts']\n",
    "\n",
    "    default_physicalqubits = default_result['physicalCounts']['physicalQubits']\n",
    "    default_runtime = default_result['physicalCounts']['runtime']\n",
    "\n",
    "    running_metric = None\n",
    "    loss = False\n",
    "\n",
    "    running_optimal_parameters = {}\n",
    "    logical_cache = []\n",
    "    t_cache = []\n",
    "    rotation_cache = []\n",
    "\n",
    "    for i in range(num_iterations):\n",
    "        parameters.error_budget = ErrorBudgetPartition()\n",
    "        logical_budget_random = np.random.uniform(0, 1)\n",
    "        t_budget_random = np.random.uniform(0, 1)\n",
    "        rotation_budget_random = np.random.uniform(0, 1)\n",
    "        budget_sum = logical_budget_random + t_budget_random + rotation_budget_random\n",
    "\n",
    "        logical_budget = (logical_budget_random / budget_sum) * total_budget\n",
    "        t_budget = (t_budget_random / budget_sum) * total_budget\n",
    "        rotation_budget = (rotation_budget_random / budget_sum) * total_budget\n",
    "\n",
    "        parameters.error_budget.logical = logical_budget\n",
    "        parameters.error_budget.t_states = t_budget\n",
    "        parameters.error_budget.rotations = rotation_budget\n",
    "        \n",
    "        result = counts.estimate(params=parameters)\n",
    "        default_result = counts.estimate()\n",
    "\n",
    "        physicalqubits = result['physicalCounts']['physicalQubits']\n",
    "        runtime = result['physicalCounts']['runtime']\n",
    "        \n",
    "        default_metric = default_runtime * default_physicalqubits\n",
    "        current_metric = runtime * physicalqubits\n",
    "        \n",
    "        if running_metric == None:\n",
    "            running_metric = current_metric\n",
    "            logical_cache = logical_budget\n",
    "            t_cache = t_budget\n",
    "            rotation_cache = rotation_budget\n",
    "        \n",
    "        if current_metric < running_metric:\n",
    "            running_metric = current_metric\n",
    "            logical_cache = logical_budget\n",
    "            t_cache = t_budget\n",
    "            rotation_cache = rotation_budget\n",
    "\n",
    "    if running_metric > default_metric:\n",
    "        loss = True\n",
    "\n",
    "    running_optimal_parameters['logical_budget'] = logical_cache\n",
    "    running_optimal_parameters['t_budget'] = t_cache\n",
    "    running_optimal_parameters['rotation_budget'] = rotation_cache\n",
    "\n",
    "    return list(running_optimal_parameters.values()), loss, running_metric, default_metric\n",
    "\n",
    "\n",
    "def generate_data(total_error_budget, counts):\n",
    "    qasm_files = [os.path.join(root, file) for root, _, files in os.walk(\"MQTBench\") for file in files if file.endswith(\".qasm\")]\n",
    "    qasm_files = sorted(qasm_files)\n",
    "\n",
    "    results = []\n",
    "\n",
    "    for file in qasm_files:\n",
    "        with open(file, 'r') as f:\n",
    "            qasm = f.read()   \n",
    "            qc = QuantumCircuit.from_qasm_str(qasm)\n",
    "        estimation = estimate(qc)\n",
    "        counts = estimation['logicalCounts']\n",
    "        if counts['rotationCount'] == 0:\n",
    "            continue\n",
    "        counts = LogicalCounts(counts)\n",
    "        combinations, loss, running_metric, default_metric = find_optimized_budgets(total_error_budget, 1000, counts)\n",
    "        specific_data = [int(counts['numQubits']),int(counts['tCount']),int(counts['rotationCount']),int(counts['rotationDepth']),int(counts['cczCount']),int(counts['ccixCount']),int(counts['measurementCount'])]\n",
    "        specific_data += combinations\n",
    "        results.append(specific_data)\n",
    "\n",
    "    return results"
   ]
  },
  {
   "cell_type": "markdown",
   "id": "32b2cd46",
   "metadata": {},
   "source": [
    "### Save the Data"
   ]
  },
  {
   "cell_type": "code",
   "execution_count": null,
   "id": "70fa92e5",
   "metadata": {},
   "outputs": [],
   "source": [
    "results = generate_data(0.1, 1000)\n",
    "\n",
    "result_array = np.asarray(results)\n",
    "print(np.shape(result_array))\n",
    "print(result_array.dtype)\n",
    "np.save('demonstration_data_ten_percent.npy', result_array)"
   ]
  }
 ],
 "metadata": {
  "kernelspec": {
   "display_name": ".venv",
   "language": "python",
   "name": "python3"
  },
  "language_info": {
   "codemirror_mode": {
    "name": "ipython",
    "version": 3
   },
   "file_extension": ".py",
   "mimetype": "text/x-python",
   "name": "python",
   "nbconvert_exporter": "python",
   "pygments_lexer": "ipython3",
   "version": "3.12.10"
  }
 },
 "nbformat": 4,
 "nbformat_minor": 5
}

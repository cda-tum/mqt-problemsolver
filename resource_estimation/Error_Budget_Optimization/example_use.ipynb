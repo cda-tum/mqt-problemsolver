{
 "cells": [
  {
   "cell_type": "code",
   "execution_count": null,
   "id": "bb93cfcc",
   "metadata": {},
   "outputs": [],
   "source": [
    "### To reproduce the results of the paper, please ensure you have the following versions of the libraries installed:\n",
    "### qsharp[qiskit]~=1.9.0\n",
    "### mqt.bench\n",
    "\n",
    "\n",
    "import zipfile\n",
    "from pathlib import Path\n",
    "\n",
    "from evaluate import evaluate, plot_results\n",
    "from generate_data import generate_benchmarks, generate_data\n",
    "from training import train"
   ]
  },
  {
   "cell_type": "markdown",
   "id": "f3e4a6d5",
   "metadata": {},
   "source": [
    "## Data Generation"
   ]
  },
  {
   "cell_type": "code",
   "execution_count": null,
   "id": "2116443e",
   "metadata": {},
   "outputs": [],
   "source": [
    "total_error_budget = 0.1\n",
    "number_of_randomly_generated_distributions = 1000\n",
    "path = \"paper_data/mqtbench\"\n",
    "use_paper_data = False\n",
    "\n",
    "if use_paper_data:\n",
    "    zip_file = \"paper_data/mqtbench.zip\"\n",
    "    if Path.exists(zip_file):\n",
    "        with zipfile.ZipFile(zip_file, \"r\") as zip_ref:\n",
    "            zip_ref.extractall(path)\n",
    "    data = generate_data(total_error_budget, number_of_randomly_generated_distributions, path=path)\n",
    "else:\n",
    "    circuits = generate_benchmarks(\n",
    "        benchmarks_and_sizes=[\n",
    "            (\"ae\", [2, 3, 4, 5, 6, 7, 8, 9, 10]),\n",
    "            (\"dj\", [2, 3, 4, 5, 6, 7, 8, 9, 10]),\n",
    "        ]\n",
    "    )\n",
    "    data = generate_data(total_error_budget, number_of_randomly_generated_distributions, benchmarks=circuits)"
   ]
  },
  {
   "cell_type": "markdown",
   "id": "7af169cb",
   "metadata": {},
   "source": [
    "## Training"
   ]
  },
  {
   "cell_type": "code",
   "execution_count": null,
   "id": "675f4541",
   "metadata": {},
   "outputs": [],
   "source": [
    "model, X_test, Y_test = train(data)"
   ]
  },
  {
   "cell_type": "markdown",
   "id": "6d4021ca",
   "metadata": {},
   "source": [
    "## Evaluation"
   ]
  },
  {
   "cell_type": "code",
   "execution_count": null,
   "id": "18ac8807",
   "metadata": {},
   "outputs": [],
   "source": [
    "Y_pred = model.predict(X_test)\n",
    "product_diffs = evaluate(X_test, Y_pred, total_error_budget)\n",
    "product_diffs_dataset = evaluate(X_test, Y_test, total_error_budget)\n",
    "\n",
    "plot_results(product_diffs, product_diffs_dataset, legend=True, bin_width=4)"
   ]
  }
 ],
 "metadata": {
  "kernelspec": {
   "display_name": ".venv",
   "language": "python",
   "name": "python3"
  },
  "language_info": {
   "codemirror_mode": {
    "name": "ipython",
    "version": 3
   },
   "file_extension": ".py",
   "mimetype": "text/x-python",
   "name": "python",
   "nbconvert_exporter": "python",
   "pygments_lexer": "ipython3"
  }
 },
 "nbformat": 4,
 "nbformat_minor": 5
}
